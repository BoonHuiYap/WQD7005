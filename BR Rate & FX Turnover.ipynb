{
 "cells": [
  {
   "cell_type": "code",
   "execution_count": 1,
   "metadata": {},
   "outputs": [
    {
     "name": "stdout",
     "output_type": "stream",
     "text": [
      "{'data': [{'bank_code': 'BKKBMYKL', 'bank_name': 'Bangkok Bank Berhad', 'base_rate': 4.72, 'base_lending_rate': 7.37, 'indicative_eff_lending_rate': 5.92}, {'bank_code': 'CIBBMYKL', 'bank_name': 'CIMB Bank Berhad', 'base_rate': 4.25, 'base_lending_rate': 7.1, 'indicative_eff_lending_rate': 5}, {'bank_code': 'CITIMYKL', 'bank_name': 'Citibank Berhad', 'base_rate': 3.9, 'base_lending_rate': 7.05, 'indicative_eff_lending_rate': 4.7}, {'bank_code': 'HLBBMYKL', 'bank_name': 'Hong Leong Bank Malaysia Berhad', 'base_rate': 4.13, 'base_lending_rate': 7.14, 'indicative_eff_lending_rate': 5}, {'bank_code': 'HBMBMYKL', 'bank_name': 'HSBC Bank Malaysia Berhad', 'base_rate': 3.89, 'base_lending_rate': 6.99, 'indicative_eff_lending_rate': 5}, {'bank_code': 'ICBKMYKL', 'bank_name': 'Industrial and Commercial Bank of China (Malaysia) Berhad', 'base_rate': 4.02, 'base_lending_rate': 6.95, 'indicative_eff_lending_rate': 4.75}, {'bank_code': 'MBBEMYKL', 'bank_name': 'Malayan Banking Berhad', 'base_rate': 3.25, 'base_lending_rate': 6.9, 'indicative_eff_lending_rate': 4.6}, {'bank_code': 'OCBCMYKL', 'bank_name': 'OCBC Bank (Malaysia) Berhad', 'base_rate': 4.08, 'base_lending_rate': 7.01, 'indicative_eff_lending_rate': 5.16}, {'bank_code': 'PBBEMYKL', 'bank_name': 'Public Bank Berhad', 'base_rate': 3.77, 'base_lending_rate': 6.97, 'indicative_eff_lending_rate': 4.6}, {'bank_code': 'RHBBMYKL', 'bank_name': 'RHB Bank Berhad', 'base_rate': 3.9, 'base_lending_rate': 6.85, 'indicative_eff_lending_rate': 4.9}, {'bank_code': 'SCBLMYKX', 'bank_name': 'Standard Chartered Bank Malaysia Berhad', 'base_rate': 3.77, 'base_lending_rate': 6.95, 'indicative_eff_lending_rate': 4.77}, {'bank_code': 'UOVBMYKL', 'bank_name': 'United Overseas Bank (Malaysia) Bhd.', 'base_rate': 4.11, 'base_lending_rate': 7.07, 'indicative_eff_lending_rate': 4.86}, {'bank_code': 'AIBBMYKL', 'bank_name': 'Affin Islamic Bank Berhad', 'base_rate': 4.1, 'base_financing_rate': 6.96, 'indicative_eff_lending_rate': 4.65}, {'bank_code': 'ALSRMYKL', 'bank_name': 'Alliance Islamic Bank Berhad', 'base_rate': 4.07, 'base_financing_rate': 6.92, 'indicative_eff_lending_rate': 4.61}, {'bank_code': 'AISLMYKL', 'bank_name': 'AmBank Islamic Berhad', 'base_rate': 4.1, 'base_financing_rate': 6.95, 'indicative_eff_lending_rate': 4.75}, {'bank_code': 'BIMBMYKL', 'bank_name': 'Bank Islam Malaysia Berhad', 'base_rate': 4.03, 'base_financing_rate': 6.98, 'indicative_eff_lending_rate': 4.83}, {'bank_code': 'BMMBMYKL', 'bank_name': 'Bank Muamalat Malaysia Berhad', 'base_rate': 4.06, 'base_financing_rate': 7.06, 'indicative_eff_lending_rate': 5.06}, {'bank_code': 'CTBBMYKL', 'bank_name': 'CIMB Islamic Bank Berhad', 'base_rate': 4.25, 'base_financing_rate': 7.1, 'indicative_eff_lending_rate': 5}, {'bank_code': 'HLIBMYKL', 'bank_name': 'Hong Leong Islamic Bank Berhad', 'base_rate': 4.13, 'base_financing_rate': 7.14, 'indicative_eff_lending_rate': 4.85}, {'bank_code': 'HMABMYKL', 'bank_name': 'HSBC Amanah Malaysia Berhad', 'base_rate': 3.89, 'base_financing_rate': 6.99, 'indicative_eff_lending_rate': 5}, {'bank_code': 'KFHOMYKL', 'bank_name': 'Kuwait Finance House (Malaysia) Berhad', 'base_rate': 3.65, 'base_financing_rate': 7.54, 'indicative_eff_lending_rate': 4.6}, {'bank_code': 'MBISMYKL', 'bank_name': 'Maybank Islamic Berhad', 'base_rate': 3.25, 'base_financing_rate': 6.9, 'indicative_eff_lending_rate': 4.6}, {'bank_code': 'AFBQMYKL', 'bank_name': 'MBSB Bank Berhad', 'base_rate': 4.15, 'base_financing_rate': 7, 'indicative_eff_lending_rate': 4.8}, {'bank_code': 'OABBMYKL', 'bank_name': 'OCBC Al-Amin Bank Berhad', 'base_rate': 4.08, 'base_financing_rate': 7.01, 'indicative_eff_lending_rate': 5.16}, {'bank_code': 'PUIBMYKL', 'bank_name': 'Public Islamic Bank Berhad', 'base_rate': 3.77, 'base_financing_rate': 6.97, 'indicative_eff_lending_rate': 4.6}, {'bank_code': 'RHBAMYKL', 'bank_name': 'RHB Islamic Bank Berhad', 'base_rate': 3.9, 'base_financing_rate': 6.85, 'indicative_eff_lending_rate': 4.9}, {'bank_code': 'SCSRMYKK', 'bank_name': 'Standard Chartered Saadiq Berhad', 'base_rate': 3.77, 'base_financing_rate': 6.95, 'indicative_eff_lending_rate': 4.77}, {'bank_code': 'AGOBMYKL', 'bank_name': 'Agrobank', 'base_rate': 3.85, 'base_financing_rate': 7, 'indicative_eff_lending_rate': None}, {'bank_code': 'BSNAMYK1', 'bank_name': 'Bank Simpanan Nasional', 'base_rate': 4.1, 'base_financing_rate': 6.85, 'indicative_eff_lending_rate': 4.7}, {'bank_code': 'PHBMMYKL', 'bank_name': 'Affin Bank Berhad', 'base_rate': 4.1, 'base_lending_rate': 6.96, 'indicative_eff_lending_rate': 4.65}, {'bank_code': 'MFBBMYKL', 'bank_name': 'Alliance Bank Malaysia Berhad', 'base_rate': 4.07, 'base_lending_rate': 6.92, 'indicative_eff_lending_rate': 4.61}, {'bank_code': 'ARBKMYKL', 'bank_name': 'AmBank (M) Berhad', 'base_rate': 4.1, 'base_lending_rate': 6.95, 'indicative_eff_lending_rate': 4.75}, {'bank_code': 'BKCHMYKL', 'bank_name': 'Bank of China (M) Berhad', 'base_rate': 4.05, 'base_lending_rate': 6.85, 'indicative_eff_lending_rate': 5.05}, {'bank_code': 'RJHIMYKL', 'bank_name': 'Al Rajhi Banking & Investment (M) Berhad', 'base_rate': 4.35, 'base_financing_rate': 7.25, 'indicative_eff_lending_rate': 5.7}, {'bank_code': 'BKRMMYKL', 'bank_name': 'Bank Kerjasama Rakyat (M) Berhad', 'base_rate': 4.1, 'base_financing_rate': 7.08, 'indicative_eff_lending_rate': 4.9}], 'meta': {'last_updated': '2019-02-14 11:48:23', 'total_result': 35, 'effective_date': '2019-01-18'}}\n",
      "{'data': {'date': '2019-03-29', 'total_sum': 14.13}, 'meta': {'last_updated': '2019-03-29 07:00:04', 'total_result': 1}}\n",
      "{'data': {'date': '2019-03-29', 'overnight': 1566.32, '1_week': 195.49, '2_week': 12.7, '1_month': 250.01, '2_month': 17.86, '3_month': 138.65, '6_month': 57.55, '9_month': None, '12_month': None, 'more_1_year': 40.47}, 'meta': {'last_updated': '2019-03-29 07:00:04', 'total_result': 1}}\n",
      "{'data': {'date': '2019-03-31', 'overnight': 3.16, '1_week': 3.27, '1_month': None, '3_month': None, '6_month': None, '1_year': None}, 'meta': {'last_updated': '2019-03-30 09:16:20', 'total_result': 0, 'product': 'money_market_operations'}}\n",
      "{'data': {'date': '2019-03-31', 'overnight': 28100000000, '1_week': 380000000, '1_month': None, '3_month': None, '6_month': None, '1_year': None, 'other': 425000000}, 'meta': {'product': 'money_market_operations', 'last_updated': '2019-03-30 09:16:45', 'total_result': 1}}\n",
      "{'data': {'effective_date': '2019-03-29', 'one_oz': {'buying': 5371, 'selling': 5587}, 'half_oz': {'buying': 2686, 'selling': 2846}, 'quarter_oz': {'buying': 1343, 'selling': 1450}}, 'meta': {'last_updated': '2019-03-29 11:00:02', 'total_result': 1}}\n",
      "{'data': {'year': 2019, 'date': '2019-03-05', 'change_in_opr': None, 'new_opr_level': 3.25}, 'meta': {'last_updated': '2019-03-22 10:11:59', 'total_result': 1}}\n"
     ]
    }
   ],
   "source": [
    "from openbnmapi import OpenBNMAPI\n",
    "\n",
    "openbnmapi = OpenBNMAPI()\n",
    "\n",
    "# Get latest Base Rates and Base Lending Rates\n",
    "br = openbnmapi.base_rate()\n",
    "print(br)\n",
    "\n",
    "# Get latest Daily FX Turnover\n",
    "openbnmapi.daily_fx_turnover()\n",
    "print (openbnmapi.daily_fx_turnover())\n",
    "\n",
    "# Get Interbank SWAP\n",
    "openbnmapi.interbank_swap()\n",
    "print (openbnmapi.interbank_swap())\n",
    "\n",
    "# Get daily Interest Rate\n",
    "openbnmapi.interest_rate()\n",
    "print (openbnmapi.interest_rate())\n",
    "\n",
    "# Get daily Interest Volume\n",
    "openbnmapi.interest_volume()\n",
    "print (openbnmapi.interest_volume())\n",
    "\n",
    "# Get daily Kijang Emas\n",
    "openbnmapi.kijang_emas()\n",
    "print (openbnmapi.kijang_emas())\n",
    "\n",
    "# Get daily Overnight Policy Rate\n",
    "openbnmapi.overnight_policy_rate()\n",
    "print (openbnmapi.overnight_policy_rate())"
   ]
  },
  {
   "cell_type": "code",
   "execution_count": null,
   "metadata": {},
   "outputs": [],
   "source": []
  }
 ],
 "metadata": {
  "kernelspec": {
   "display_name": "Python 3",
   "language": "python",
   "name": "python3"
  },
  "language_info": {
   "codemirror_mode": {
    "name": "ipython",
    "version": 3
   },
   "file_extension": ".py",
   "mimetype": "text/x-python",
   "name": "python",
   "nbconvert_exporter": "python",
   "pygments_lexer": "ipython3",
   "version": "3.7.2"
  }
 },
 "nbformat": 4,
 "nbformat_minor": 2
}
