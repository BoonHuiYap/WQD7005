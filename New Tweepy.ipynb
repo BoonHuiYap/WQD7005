{
 "cells": [
  {
   "cell_type": "code",
   "execution_count": 42,
   "metadata": {},
   "outputs": [
    {
     "name": "stdout",
     "output_type": "stream",
     "text": [
      "RT @ninaandtito: OK: back to Omega Holdings, here's who Tony Tiah Thee Kian (Tiah Joo Kim's dad) is linked to from his 2002 conviction for…\n",
      "Sentiment(polarity=0.25, subjectivity=0.25)\n",
      "RT @BursaMKTPLC: Although there were shares &amp; shareholders, there was no stock exchange. Then in 1960, a formalised trading environment was…\n",
      "Sentiment(polarity=0.0, subjectivity=0.0)\n",
      "RT @BursaMKTPLC: Although there were shares &amp; shareholders, there was no stock exchange. Then in 1960, a formalised trading environment was…\n",
      "Sentiment(polarity=0.0, subjectivity=0.0)\n",
      "RT @BursaMKTPLC: Although there were shares &amp; shareholders, there was no stock exchange. Then in 1960, a formalised trading environment was…\n",
      "Sentiment(polarity=0.0, subjectivity=0.0)\n",
      "Although there were shares &amp; shareholders, there was no stock exchange. Then in 1960, a formalised trading environm… https://t.co/PpaNG1Hs48\n",
      "Sentiment(polarity=0.0, subjectivity=0.0)\n",
      "@NajibRazak Kuala Lumpur Stock Exchange  》》Ke Laut Stock Exchange\n",
      "Sentiment(polarity=0.0, subjectivity=0.0)\n"
     ]
    }
   ],
   "source": [
    "import tweepy\n",
    "from textblob import TextBlob\n",
    "from tweepy.auth import OAuthHandler\n",
    "\n",
    "#Variables that contains the user credentials to access Twitter API \n",
    "access_token = \"1104302781127487489-on3RKe5Di62c2QfBJSCASdyfQ1Uo2Z\"\n",
    "access_token_secret = \"VmMS9QfyAYwceH8hBdBbJdaDkFFCgYuksruNx7sLvHdd4\"\n",
    "consumer_key = \"sx1MGVgQHy2mZD3y6TkN3O5yu\"\n",
    "consumer_secret = \"l0YZpaZslww7k1xH1rdxP9YB68PTglDV9oEWBpS5eGeY15apUy\"\n",
    "\n",
    "#This handles Twitter authetification and the connection to Twitter Streaming API\n",
    "auth = OAuthHandler(consumer_key, consumer_secret)\n",
    "auth.set_access_token(access_token, access_token_secret)\n",
    "    \n",
    "api = tweepy.API(auth)\n",
    "\n",
    "public_tweets = api.search('Kuala_Lumpur_Stock_Exchange')\n",
    "\n",
    "for tweet in public_tweets:\n",
    "    print(tweet.text)\n",
    "    analysis = TextBlob(tweet.text)\n",
    "    print(analysis.sentiment)\n",
    "    "
   ]
  },
  {
   "cell_type": "code",
   "execution_count": null,
   "metadata": {},
   "outputs": [],
   "source": []
  }
 ],
 "metadata": {
  "kernelspec": {
   "display_name": "Python 3",
   "language": "python",
   "name": "python3"
  },
  "language_info": {
   "codemirror_mode": {
    "name": "ipython",
    "version": 3
   },
   "file_extension": ".py",
   "mimetype": "text/x-python",
   "name": "python",
   "nbconvert_exporter": "python",
   "pygments_lexer": "ipython3",
   "version": "3.7.2"
  }
 },
 "nbformat": 4,
 "nbformat_minor": 2
}
